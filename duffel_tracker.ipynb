{
 "cells": [
  {
   "cell_type": "code",
   "execution_count": null,
   "metadata": {},
   "outputs": [
    {
     "name": "stdout",
     "output_type": "stream",
     "text": [
      "offers\n"
     ]
    },
    {
     "ename": "JSONDecodeError",
     "evalue": "Expecting value: line 1 column 1 (char 0)",
     "output_type": "error",
     "traceback": [
      "\u001b[0;31m---------------------------------------------------------------------------\u001b[0m",
      "\u001b[0;31mJSONDecodeError\u001b[0m                           Traceback (most recent call last)",
      "Cell \u001b[0;32mIn[9], line 80\u001b[0m\n\u001b[1;32m     77\u001b[0m     response \u001b[38;5;241m=\u001b[39m json\u001b[38;5;241m.\u001b[39mload(f)\n\u001b[1;32m     79\u001b[0m \u001b[38;5;66;03m# Process and save the summary\u001b[39;00m\n\u001b[0;32m---> 80\u001b[0m summary \u001b[38;5;241m=\u001b[39m \u001b[43mprocess_flight_response\u001b[49m\u001b[43m(\u001b[49m\u001b[43mresponse\u001b[49m\u001b[43m)\u001b[49m\n\u001b[1;32m     81\u001b[0m save_human_readable_summary(summary, human_readable_file)\n\u001b[1;32m     83\u001b[0m \u001b[38;5;28mprint\u001b[39m(\u001b[38;5;124mf\u001b[39m\u001b[38;5;124m\"\u001b[39m\u001b[38;5;124mHuman-readable summary saved to \u001b[39m\u001b[38;5;132;01m{\u001b[39;00mhuman_readable_file\u001b[38;5;132;01m}\u001b[39;00m\u001b[38;5;124m\"\u001b[39m)\n",
      "Cell \u001b[0;32mIn[9], line 20\u001b[0m, in \u001b[0;36mprocess_flight_response\u001b[0;34m(response)\u001b[0m\n\u001b[1;32m     18\u001b[0m \u001b[38;5;28;01mif\u001b[39;00m \u001b[38;5;28misinstance\u001b[39m(offer, \u001b[38;5;28mstr\u001b[39m):\n\u001b[1;32m     19\u001b[0m     \u001b[38;5;28mprint\u001b[39m(offer)\n\u001b[0;32m---> 20\u001b[0m     offer \u001b[38;5;241m=\u001b[39m \u001b[43mjson\u001b[49m\u001b[38;5;241;43m.\u001b[39;49m\u001b[43mloads\u001b[49m\u001b[43m(\u001b[49m\u001b[43moffer\u001b[49m\u001b[43m)\u001b[49m\n\u001b[1;32m     22\u001b[0m \u001b[38;5;66;03m# Extract key details\u001b[39;00m\n\u001b[1;32m     23\u001b[0m total_price \u001b[38;5;241m=\u001b[39m offer\u001b[38;5;241m.\u001b[39mget(\u001b[38;5;124m\"\u001b[39m\u001b[38;5;124mtotal_amount\u001b[39m\u001b[38;5;124m\"\u001b[39m)\n",
      "File \u001b[0;32m~/anaconda3/envs/CondaDev/lib/python3.8/json/__init__.py:357\u001b[0m, in \u001b[0;36mloads\u001b[0;34m(s, cls, object_hook, parse_float, parse_int, parse_constant, object_pairs_hook, **kw)\u001b[0m\n\u001b[1;32m    352\u001b[0m     \u001b[38;5;28;01mdel\u001b[39;00m kw[\u001b[38;5;124m'\u001b[39m\u001b[38;5;124mencoding\u001b[39m\u001b[38;5;124m'\u001b[39m]\n\u001b[1;32m    354\u001b[0m \u001b[38;5;28;01mif\u001b[39;00m (\u001b[38;5;28mcls\u001b[39m \u001b[38;5;129;01mis\u001b[39;00m \u001b[38;5;28;01mNone\u001b[39;00m \u001b[38;5;129;01mand\u001b[39;00m object_hook \u001b[38;5;129;01mis\u001b[39;00m \u001b[38;5;28;01mNone\u001b[39;00m \u001b[38;5;129;01mand\u001b[39;00m\n\u001b[1;32m    355\u001b[0m         parse_int \u001b[38;5;129;01mis\u001b[39;00m \u001b[38;5;28;01mNone\u001b[39;00m \u001b[38;5;129;01mand\u001b[39;00m parse_float \u001b[38;5;129;01mis\u001b[39;00m \u001b[38;5;28;01mNone\u001b[39;00m \u001b[38;5;129;01mand\u001b[39;00m\n\u001b[1;32m    356\u001b[0m         parse_constant \u001b[38;5;129;01mis\u001b[39;00m \u001b[38;5;28;01mNone\u001b[39;00m \u001b[38;5;129;01mand\u001b[39;00m object_pairs_hook \u001b[38;5;129;01mis\u001b[39;00m \u001b[38;5;28;01mNone\u001b[39;00m \u001b[38;5;129;01mand\u001b[39;00m \u001b[38;5;129;01mnot\u001b[39;00m kw):\n\u001b[0;32m--> 357\u001b[0m     \u001b[38;5;28;01mreturn\u001b[39;00m \u001b[43m_default_decoder\u001b[49m\u001b[38;5;241;43m.\u001b[39;49m\u001b[43mdecode\u001b[49m\u001b[43m(\u001b[49m\u001b[43ms\u001b[49m\u001b[43m)\u001b[49m\n\u001b[1;32m    358\u001b[0m \u001b[38;5;28;01mif\u001b[39;00m \u001b[38;5;28mcls\u001b[39m \u001b[38;5;129;01mis\u001b[39;00m \u001b[38;5;28;01mNone\u001b[39;00m:\n\u001b[1;32m    359\u001b[0m     \u001b[38;5;28mcls\u001b[39m \u001b[38;5;241m=\u001b[39m JSONDecoder\n",
      "File \u001b[0;32m~/anaconda3/envs/CondaDev/lib/python3.8/json/decoder.py:337\u001b[0m, in \u001b[0;36mJSONDecoder.decode\u001b[0;34m(self, s, _w)\u001b[0m\n\u001b[1;32m    332\u001b[0m \u001b[38;5;28;01mdef\u001b[39;00m \u001b[38;5;21mdecode\u001b[39m(\u001b[38;5;28mself\u001b[39m, s, _w\u001b[38;5;241m=\u001b[39mWHITESPACE\u001b[38;5;241m.\u001b[39mmatch):\n\u001b[1;32m    333\u001b[0m \u001b[38;5;250m    \u001b[39m\u001b[38;5;124;03m\"\"\"Return the Python representation of ``s`` (a ``str`` instance\u001b[39;00m\n\u001b[1;32m    334\u001b[0m \u001b[38;5;124;03m    containing a JSON document).\u001b[39;00m\n\u001b[1;32m    335\u001b[0m \n\u001b[1;32m    336\u001b[0m \u001b[38;5;124;03m    \"\"\"\u001b[39;00m\n\u001b[0;32m--> 337\u001b[0m     obj, end \u001b[38;5;241m=\u001b[39m \u001b[38;5;28;43mself\u001b[39;49m\u001b[38;5;241;43m.\u001b[39;49m\u001b[43mraw_decode\u001b[49m\u001b[43m(\u001b[49m\u001b[43ms\u001b[49m\u001b[43m,\u001b[49m\u001b[43m \u001b[49m\u001b[43midx\u001b[49m\u001b[38;5;241;43m=\u001b[39;49m\u001b[43m_w\u001b[49m\u001b[43m(\u001b[49m\u001b[43ms\u001b[49m\u001b[43m,\u001b[49m\u001b[43m \u001b[49m\u001b[38;5;241;43m0\u001b[39;49m\u001b[43m)\u001b[49m\u001b[38;5;241;43m.\u001b[39;49m\u001b[43mend\u001b[49m\u001b[43m(\u001b[49m\u001b[43m)\u001b[49m\u001b[43m)\u001b[49m\n\u001b[1;32m    338\u001b[0m     end \u001b[38;5;241m=\u001b[39m _w(s, end)\u001b[38;5;241m.\u001b[39mend()\n\u001b[1;32m    339\u001b[0m     \u001b[38;5;28;01mif\u001b[39;00m end \u001b[38;5;241m!=\u001b[39m \u001b[38;5;28mlen\u001b[39m(s):\n",
      "File \u001b[0;32m~/anaconda3/envs/CondaDev/lib/python3.8/json/decoder.py:355\u001b[0m, in \u001b[0;36mJSONDecoder.raw_decode\u001b[0;34m(self, s, idx)\u001b[0m\n\u001b[1;32m    353\u001b[0m     obj, end \u001b[38;5;241m=\u001b[39m \u001b[38;5;28mself\u001b[39m\u001b[38;5;241m.\u001b[39mscan_once(s, idx)\n\u001b[1;32m    354\u001b[0m \u001b[38;5;28;01mexcept\u001b[39;00m \u001b[38;5;167;01mStopIteration\u001b[39;00m \u001b[38;5;28;01mas\u001b[39;00m err:\n\u001b[0;32m--> 355\u001b[0m     \u001b[38;5;28;01mraise\u001b[39;00m JSONDecodeError(\u001b[38;5;124m\"\u001b[39m\u001b[38;5;124mExpecting value\u001b[39m\u001b[38;5;124m\"\u001b[39m, s, err\u001b[38;5;241m.\u001b[39mvalue) \u001b[38;5;28;01mfrom\u001b[39;00m \u001b[38;5;28;01mNone\u001b[39;00m\n\u001b[1;32m    356\u001b[0m \u001b[38;5;28;01mreturn\u001b[39;00m obj, end\n",
      "\u001b[0;31mJSONDecodeError\u001b[0m: Expecting value: line 1 column 1 (char 0)"
     ]
    }
   ],
   "source": [
    "import json\n",
    "import os\n",
    "\n",
    "\n",
    "def process_flight_response(response):\n",
    "    \"\"\"\n",
    "    Extracts and formats flight data for human readability.\n",
    "    \"\"\"\n",
    "    flights_summary = []\n",
    "\n",
    "    # Ensure the response has data\n",
    "    if 'data' not in response or not response['data']:\n",
    "        print(\"No flight data available.\")\n",
    "        return flights_summary\n",
    "\n",
    "    for offer in response['data']:\n",
    "        # If offer is a string, check if it's valid JSON\n",
    "        if isinstance(offer, str):\n",
    "            try:\n",
    "                offer = json.loads(offer)\n",
    "            except json.JSONDecodeError:\n",
    "                print(f\"Skipping invalid offer: {offer}\")\n",
    "                continue  # Skip to the next offer\n",
    "\n",
    "        # Validate that offer is a dictionary\n",
    "        if not isinstance(offer, dict):\n",
    "            print(f\"Unexpected offer format: {type(offer)} - {offer}\")\n",
    "            continue\n",
    "\n",
    "        # Extract key details\n",
    "        total_price = offer.get(\"total_amount\", \"Unknown\")\n",
    "        slices = offer.get(\"slices\", [])\n",
    "        flight_info = []\n",
    "\n",
    "        for flight_slice in slices:\n",
    "            # Extract details for each segment\n",
    "            segments = flight_slice.get(\"segments\", [])\n",
    "            for segment in segments:\n",
    "                flight_info.append({\n",
    "                    \"departure\": segment.get(\"departing_at\", \"Unknown\"),\n",
    "                    \"arrival\": segment.get(\"arriving_at\", \"Unknown\"),\n",
    "                    \"origin\": segment.get(\"origin\", {}).get(\"name\", \"Unknown\"),\n",
    "                    \"destination\": segment.get(\"destination\", {}).get(\"name\", \"Unknown\"),\n",
    "                    \"airline\": segment.get(\"operating_carrier\", {}).get(\"name\", \"Unknown\"),\n",
    "                    \"flight_number\": segment.get(\"operating_carrier_flight_number\", \"Unknown\"),\n",
    "                    \"duration\": segment.get(\"duration\", \"Unknown\")\n",
    "                })\n",
    "\n",
    "        # Append formatted summary\n",
    "        flights_summary.append({\n",
    "            \"price\": total_price,\n",
    "            \"flights\": flight_info\n",
    "        })\n",
    "\n",
    "    return flights_summary\n",
    "\n",
    "\n",
    "def save_human_readable_summary(flights_summary, output_path):\n",
    "    \"\"\"\n",
    "    Saves a human-readable summary to a file.\n",
    "    \"\"\"\n",
    "    with open(output_path, \"w\") as f:\n",
    "        for idx, flight in enumerate(flights_summary, start=1):\n",
    "            f.write(f\"Flight Option {idx}:\\n\")\n",
    "            f.write(f\"  Price: ${flight['price']}\\n\")\n",
    "            for segment in flight[\"flights\"]:\n",
    "                f.write(f\"    Airline: {segment['airline']}\\n\")\n",
    "                f.write(f\"    Flight Number: {segment['flight_number']}\\n\")\n",
    "                f.write(f\"    Origin: {segment['origin']}\\n\")\n",
    "                f.write(f\"    Destination: {segment['destination']}\\n\")\n",
    "                f.write(f\"    Departure: {segment['departure']}\\n\")\n",
    "                f.write(f\"    Arrival: {segment['arrival']}\\n\")\n",
    "                f.write(f\"    Duration: {segment['duration']}\\n\")\n",
    "                f.write(\"\\n\")\n",
    "            f.write(\"\\n\")\n",
    "\n",
    "\n",
    "# Example usage with the current script\n",
    "project_dir = \"/Users/simon/Dropbox/Python/WebScraping/Flights/project-root\"\n",
    "output_file = os.path.join(project_dir, \"data/duffel_response.json\")\n",
    "human_readable_file = os.path.join(project_dir, \"data/duffel_summary.txt\")\n",
    "\n",
    "# Load the response\n",
    "with open(output_file, \"r\") as f:\n",
    "    response = json.load(f)\n",
    "\n",
    "# Process and save the summary\n",
    "summary = process_flight_response(response)\n",
    "save_human_readable_summary(summary, human_readable_file)\n",
    "\n",
    "print(f\"Human-readable summary saved to {human_readable_file}\")"
   ]
  },
  {
   "cell_type": "code",
   "execution_count": 2,
   "metadata": {},
   "outputs": [
    {
     "name": "stdout",
     "output_type": "stream",
     "text": [
      "/Users/simon/Dropbox/Python/WebScraping/Flights/project-root\n"
     ]
    }
   ],
   "source": [
    "print(os.getcwd())"
   ]
  },
  {
   "cell_type": "code",
   "execution_count": null,
   "metadata": {},
   "outputs": [],
   "source": []
  }
 ],
 "metadata": {
  "kernelspec": {
   "display_name": "CondaDev",
   "language": "python",
   "name": "python3"
  },
  "language_info": {
   "codemirror_mode": {
    "name": "ipython",
    "version": 3
   },
   "file_extension": ".py",
   "mimetype": "text/x-python",
   "name": "python",
   "nbconvert_exporter": "python",
   "pygments_lexer": "ipython3",
   "version": "3.8.18"
  }
 },
 "nbformat": 4,
 "nbformat_minor": 2
}
